{
 "cells": [
  {
   "cell_type": "code",
   "execution_count": null,
   "metadata": {},
   "outputs": [],
   "source": [
    "import numpy as np\n",
    "\n",
    "import time\n",
    "\n",
    "import os\n",
    "\n",
    "from random import randint\n",
    "\n",
    "import torch\n",
    "import torch.nn as nn\n",
    "import torch.optim as optim\n",
    "from torch.autograd import Variable\n",
    "\n",
    "from torch.utils.data import DataLoader\n",
    "\n",
    "from torchvision.utils import make_grid\n",
    "import torchvision.transforms as transforms\n",
    "from torchvision import datasets\n",
    "\n",
    "from models.model import Autoencoder\n",
    "from utils.data import autoloader\n",
    "from utils.utils import save_ckp\n",
    "\n",
    "import matplotlib.pyplot as plt\n",
    "%matplotlib inline\n",
    "\n",
    "device = torch.device(\"cuda:0\" if torch.cuda.is_available() else \"cpu\")"
   ]
  },
  {
   "cell_type": "code",
   "execution_count": null,
   "metadata": {},
   "outputs": [],
   "source": [
    "path = './dataset/'\n",
    "\n",
    "A_path = path+'jaime'\n",
    "B_path = path+'willyrex'\n",
    "\n",
    "bs = 8\n",
    "num_workers=2\n",
    "\n",
    "A_loader, B_loader = autoloader(A_path, B_path, bs=bs)"
   ]
  },
  {
   "cell_type": "code",
   "execution_count": null,
   "metadata": {},
   "outputs": [],
   "source": [
    "#imshow method from: https://pytorch.org/tutorials/beginner/transfer_learning_tutorial.html\n",
    "def imshow(inp, title=None):\n",
    "    \"\"\"Imshow for Tensor.\"\"\"\n",
    "    inp = inp.numpy().transpose((1, 2, 0))\n",
    "    mean = np.array([0.485, 0.456, 0.406])\n",
    "    std = np.array([0.229, 0.224, 0.225])\n",
    "    inp = std * inp + mean\n",
    "    inp = np.clip(inp, 0, 1)\n",
    "    plt.imshow(inp)\n",
    "    if title is not None:\n",
    "        plt.title(title)\n",
    "    plt.pause(0.001)"
   ]
  },
  {
   "cell_type": "code",
   "execution_count": null,
   "metadata": {},
   "outputs": [],
   "source": [
    "#inputs, _ = next(iter(A_dataset))\n",
    "\n",
    "#imshow(inputs, title='Jaime')"
   ]
  },
  {
   "cell_type": "code",
   "execution_count": null,
   "metadata": {},
   "outputs": [],
   "source": [
    "#inputs, _ = next(iter(B_dataset))\n",
    "\n",
    "#imshow(inputs, title='Willyrex')"
   ]
  },
  {
   "cell_type": "code",
   "execution_count": null,
   "metadata": {},
   "outputs": [],
   "source": [
    "modelA = Autoencoder().to(device)\n",
    "modelB = Autoencoder().to(device)"
   ]
  },
  {
   "cell_type": "code",
   "execution_count": null,
   "metadata": {},
   "outputs": [],
   "source": [
    "criterion = nn.MSELoss()\n",
    "\n",
    "optimizerA = optim.Adam(modelA.parameters(), lr=0.001)\n",
    "optimizerB = optim.Adam(modelB.parameters(), lr=0.001)"
   ]
  },
  {
   "cell_type": "code",
   "execution_count": null,
   "metadata": {},
   "outputs": [],
   "source": [
    "#optimizer = optim.SGD(model.parameters(), lr=0.001, momentum=0.9, nesterov=True)\n",
    "#exp_lr_scheduler = lr_scheduler.StepLR(optimizer, step_size=1, gamma=0.1)"
   ]
  },
  {
   "cell_type": "code",
   "execution_count": null,
   "metadata": {},
   "outputs": [],
   "source": [
    "epochs = 15\n",
    "\n",
    "lossA_plot = []\n",
    "lossB_plot = []\n",
    "\n",
    "save_path = \"./checkpoints/\"\n",
    "    \n",
    "iteration = 0\n",
    "for epoch in range(epochs):\n",
    "    start = time.time()\n",
    "    \n",
    "    for (A_imgs, _), (B_imgs, _) in zip(A_loader, B_loader):\n",
    "        \n",
    "        A = Variable(A_imgs).to(device)\n",
    "        B = Variable(B_imgs).to(device)\n",
    "\n",
    "        optimizerA.zero_grad()\n",
    "        optimizerB.zero_grad()\n",
    "\n",
    "        outputsA = modelA(A)\n",
    "        outputsB = modelB(B)\n",
    "\n",
    "        lossA = criterion(outputsA, A)\n",
    "        lossB = criterion(outputsB, B)\n",
    "\n",
    "        lossA.backward()\n",
    "        lossB.backward()\n",
    "        \n",
    "        optimizerA.step()\n",
    "        optimizerB.step()\n",
    "        \n",
    "        lossA_plot.append(lossA.item())\n",
    "        lossB_plot.append(lossB.item())\n",
    "        \n",
    "        if iteration % 500 == 0:\n",
    "            imshow(make_grid(modelA(A_imgs.cuda()).detach().cpu()[0]), title=str(iteration))\n",
    "\n",
    "        iteration +=1\n",
    "            \n",
    "        \n",
    "    finish = time.time()\n",
    "        \n",
    "    print(f\"Epoch {epoch+1}/{epochs} ({round((epoch+1)/epochs * 100, 2)}%) | LossA: {lossA.item()}, LossB: {lossB.item()} | The loop took {round(finish-start, 2)} seconds.\")\n",
    "    \n",
    "    if (finish-start)*(epochs-epoch) > 60:\n",
    "        print(f\"Estimated time left {round((finish-start)*(epochs-epoch)/60, 2)} minutes.\")\n",
    "    else:\n",
    "        print(f\"Estimated time left {round((finish-start)*(epochs-epoch), 2)} seconds.\")\n",
    "    \n",
    "    checkpointA = {\n",
    "        'epoch': epoch + 1,\n",
    "        'state_dict': modelA.state_dict(),\n",
    "        'optimizer': optimizerA.state_dict()\n",
    "    }\n",
    "    \n",
    "    checkpointB = {\n",
    "        'epoch': epoch + 1,\n",
    "        'state_dict': modelB.state_dict(),\n",
    "        'optimizer': optimizerB.state_dict()\n",
    "    }\n",
    "    \n",
    "    save_ckp(checkpointA, save_path, f\"{save_path}epoch-{epoch+1}(A)\")\n",
    "    \n",
    "    save_ckp(checkpointB, save_path, f\"{save_path}epoch-{epoch+1}(B)\")"
   ]
  },
  {
   "cell_type": "code",
   "execution_count": null,
   "metadata": {},
   "outputs": [],
   "source": [
    "plt.plot(lossA_plot)"
   ]
  },
  {
   "cell_type": "code",
   "execution_count": null,
   "metadata": {},
   "outputs": [],
   "source": [
    "plt.plot(lossB_plot)"
   ]
  },
  {
   "cell_type": "code",
   "execution_count": null,
   "metadata": {},
   "outputs": [],
   "source": [
    "imshow(make_grid(modelA(A_imgs.cuda()).detach().cpu()[0]), title=str(iteration))"
   ]
  },
  {
   "cell_type": "code",
   "execution_count": null,
   "metadata": {},
   "outputs": [],
   "source": []
  }
 ],
 "metadata": {
  "kernelspec": {
   "display_name": "Python 3",
   "language": "python",
   "name": "python3"
  },
  "language_info": {
   "codemirror_mode": {
    "name": "ipython",
    "version": 3
   },
   "file_extension": ".py",
   "mimetype": "text/x-python",
   "name": "python",
   "nbconvert_exporter": "python",
   "pygments_lexer": "ipython3",
   "version": "3.7.4"
  }
 },
 "nbformat": 4,
 "nbformat_minor": 2
}
