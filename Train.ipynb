{
 "cells": [
  {
   "cell_type": "code",
   "execution_count": 1,
   "metadata": {},
   "outputs": [],
   "source": [
    "import time\n",
    "import os\n",
    "import cv2\n",
    "import numpy as np\n",
    "from PIL import Image\n",
    "from glob import glob\n",
    "from tqdm import tqdm\n",
    "\n",
    "from models import Autoencoder\n",
    "from loss import VGGPerceptualLoss\n",
    "\n",
    "import torch\n",
    "import torch.nn as nn\n",
    "import torch.optim as optim\n",
    "\n",
    "from torch.utils.data import DataLoader\n",
    "from torch.utils.data import Dataset\n",
    "\n",
    "import torchvision.transforms as transforms\n",
    "\n",
    "from torchvision.utils import make_grid\n",
    "\n",
    "import matplotlib.pyplot as plt\n",
    "\n",
    "device = torch.device(\"cuda:0\" if torch.cuda.is_available() else \"cpu\")\n",
    "\n",
    "%matplotlib inline"
   ]
  },
  {
   "cell_type": "code",
   "execution_count": 2,
   "metadata": {},
   "outputs": [],
   "source": [
    "# TODO:\n",
    "#     LR_SCHEDULE\n",
    "#     NORMALIZation\n",
    "#     vgg perceptual loss\n",
    "#     visdom    "
   ]
  },
  {
   "cell_type": "code",
   "execution_count": 3,
   "metadata": {},
   "outputs": [
    {
     "name": "stderr",
     "output_type": "stream",
     "text": [
      "WARNING:root:Setting up a new session...\n",
      "WARNING:root:Setting up a new session...\n"
     ]
    }
   ],
   "source": [
    "# from visdom import Visdom\n",
    "\n",
    "# class VisdomEnv(object):\n",
    "#     def __init__(self, env_name='main'):\n",
    "#         self.viz = Visdom()\n",
    "#         self.env = env_name\n",
    "\n",
    "# class VisdomPlotter(VisdomEnv):\n",
    "#     def __init__(self):\n",
    "#         super(VisdomPlotter, self).__init__()\n",
    "#         self.plots = {}\n",
    "        \n",
    "#     def plot(self, var_name, split_name, title_name, x, y):\n",
    "#         if var_name not in self.plots:\n",
    "#             self.plots[var_name] = self.viz.line(X=np.array([x,x]), Y=np.array([y,y]), env=self.env, opts=dict(\n",
    "#                 legend=[split_name],\n",
    "#                 title=title_name,\n",
    "#                 xlabel='Epochs',\n",
    "#                 ylabel=var_name\n",
    "#             ))\n",
    "#         else:\n",
    "#             self.viz.line(X=np.array([x]), Y=np.array([y]), env=self.env, win=self.plots[var_name], name=split_name, update = 'append')\n",
    "            \n",
    "# class VisdomImage(VisdomEnv):  \n",
    "#     def __init__(self):\n",
    "#         super(VisdomImage, self).__init__()\n",
    "        \n",
    "#     def show(self, img, text=None):\n",
    "#         self.viz.text(text)\n",
    "#         self.viz.image(img)\n",
    "        \n",
    "# plotter = VisdomPlotter()\n",
    "# imager = VisdomImage()"
   ]
  },
  {
   "cell_type": "code",
   "execution_count": 4,
   "metadata": {},
   "outputs": [],
   "source": [
    "training_previews_folder = \"./training_previews\"\n",
    "show_every = 500\n",
    "\n",
    "if not os.path.exists(training_previews_folder):\n",
    "    os.makedirs(training_previews_folder)\n",
    "\n",
    "def training_window(batchA, batchB, modelA, modelB, epoch, iteration):\n",
    "    show=True\n",
    "        \n",
    "    if show:\n",
    "        if i % show_every == 0:\n",
    "        \n",
    "            if len(batchA) < 4 or len(batchB) < 4:\n",
    "                raise ValueError(\"lenghts of batches has to be grater that 4.\")\n",
    "\n",
    "            batchA = batchA[:6]\n",
    "            batchB = batchB[:6]\n",
    "\n",
    "            A_actual = []\n",
    "            A_recreated = []\n",
    "            A_swapped = []\n",
    "            for img in batchA:\n",
    "                A_actual.append(img.permute(1,2,0).detach().cpu().numpy())\n",
    "\n",
    "                img = img.unsqueeze(0)\n",
    "\n",
    "                A_recreated.append(modelA(img).squeeze(0).permute(1,2,0).detach().cpu().numpy())\n",
    "                A_swapped.append(modelB.decoder(modelA.encoder(img)).squeeze(0).permute(1,2,0).detach().cpu().numpy())\n",
    "\n",
    "            B_actual = []\n",
    "            B_recreated = []\n",
    "            B_swapped = []\n",
    "            for img in batchB:\n",
    "                B_actual.append(img.permute(1,2,0).detach().cpu().numpy())\n",
    "\n",
    "                img = img.unsqueeze(0)\n",
    "\n",
    "                B_recreated.append(modelB(img).squeeze(0).permute(1,2,0).detach().cpu().numpy())\n",
    "                B_swapped.append(modelA.decoder(modelB.encoder(img)).squeeze(0).permute(1,2,0).detach().cpu().numpy())\n",
    "\n",
    "            col1 = np.vstack(A_actual)\n",
    "            col2 = np.vstack(A_recreated)\n",
    "            col3 = np.vstack(A_swapped)\n",
    "\n",
    "            col4 = np.vstack(B_actual)\n",
    "            col5 = np.vstack(B_recreated)\n",
    "            col6 = np.vstack(B_swapped)\n",
    "\n",
    "            window = np.hstack([col1, col2, col3, col4, col5, col6])\n",
    "    #         window = cv2.resize(window, (800, 800), interpolation=cv2.INTER_AREA)\n",
    "\n",
    "            cv2.imshow(\"Training window\", cv2.cvtColor(window, cv2.COLOR_BGR2RGB))\n",
    "#             imager.show(window)\n",
    "    \n",
    "            cv2.imwrite(f'{training_previews_folder}/preview_at_epoch{epoch}_iteration{iteration}.jpg', window) \n",
    "        \n",
    "        if cv2.waitKey(33)==27:    # Esc key to stop\n",
    "            show=False\n",
    "# for i in range(20):\n",
    "#     imgt = Image.open(fls[i])\n",
    "#     cv2.imshow(\"preview some\", cv2.cvtColor(np.array(imgt), cv2.COLOR_BGR2RGB))\n",
    "#     time.sleep(1)\n",
    "#     k = cv2.waitKey(33)\n",
    "#     if k==27:    # Esc key to stop\n",
    "#         break"
   ]
  },
  {
   "cell_type": "code",
   "execution_count": 5,
   "metadata": {},
   "outputs": [],
   "source": [
    "class Faceset(Dataset):\n",
    "    def __init__(self, root, transforms):\n",
    "        \n",
    "        self.transforms = transforms\n",
    "        \n",
    "        self.imgs_A = glob(f'{root}/A/*')\n",
    "        self.imgs_B = glob(f'{root}/B/*')    \n",
    "        \n",
    "    def __len__(self):\n",
    "        if len(self.imgs_A) > len(self.imgs_B):\n",
    "            return len(self.imgs_B)\n",
    "        else:\n",
    "            return len(self.imgs_A)\n",
    "    \n",
    "    def __getitem__(self, idx):\n",
    "        \n",
    "        img_A = self.transforms(Image.open(self.imgs_A[idx]))\n",
    "        img_B = self.transforms(Image.open(self.imgs_B[idx]))\n",
    "        \n",
    "        return img_A, img_B"
   ]
  },
  {
   "cell_type": "code",
   "execution_count": 6,
   "metadata": {},
   "outputs": [],
   "source": [
    "epochs = 10000\n",
    "change_lr_each = 2500 #epochs"
   ]
  },
  {
   "cell_type": "code",
   "execution_count": 7,
   "metadata": {},
   "outputs": [],
   "source": [
    "transforms = transforms.Compose([\n",
    "    transforms.Resize(256),\n",
    "    transforms.ToTensor(),\n",
    "])\n",
    "\n",
    "dataset = Faceset('./data/faces/', transforms)\n",
    "loader = DataLoader(dataset,\n",
    "                    batch_size=32,\n",
    "                    shuffle=True,\n",
    "                    num_workers=2)"
   ]
  },
  {
   "cell_type": "code",
   "execution_count": 8,
   "metadata": {},
   "outputs": [
    {
     "data": {
      "text/plain": [
       "43443"
      ]
     },
     "execution_count": 8,
     "metadata": {},
     "output_type": "execute_result"
    }
   ],
   "source": [
    "len(dataset)"
   ]
  },
  {
   "cell_type": "code",
   "execution_count": 9,
   "metadata": {},
   "outputs": [],
   "source": [
    "modelA = Autoencoder().to(device)\n",
    "modelB = Autoencoder().to(device)\n",
    "\n",
    "criterion = VGGPerceptualLoss()#nn.MSELoss()\n",
    "\n",
    "optimizerA = optim.Adam(modelA.parameters(), lr=5e-2)\n",
    "optimizerB = optim.Adam(modelB.parameters(), lr=5e-2)\n",
    "\n",
    "schedulerA = optim.lr_scheduler.StepLR(optimizerA, change_lr_each)\n",
    "schedulerB = optim.lr_scheduler.StepLR(optimizerB, change_lr_each)"
   ]
  },
  {
   "cell_type": "code",
   "execution_count": null,
   "metadata": {},
   "outputs": [],
   "source": [
    "load weights"
   ]
  },
  {
   "cell_type": "code",
   "execution_count": null,
   "metadata": {},
   "outputs": [
    {
     "name": "stderr",
     "output_type": "stream",
     "text": [
      "  0%|          | 0/10000 [00:00<?, ?it/s]"
     ]
    }
   ],
   "source": [
    "# plotA = []\n",
    "# plotB = []\n",
    "\n",
    "trained_models = \"./models\"\n",
    "\n",
    "if not os.path.exists(trained_models):\n",
    "    os.makedirs(trained_models)\n",
    "\n",
    "for epoch in tqdm(range(epochs)):\n",
    "    for i, (imgsA, imgsB) in enumerate(loader):\n",
    "        imgsA = imgsA.to(device)\n",
    "        imgsB = imgsB.to(device)\n",
    "        \n",
    "        optimizerA.zero_grad()\n",
    "        optimizerB.zero_grad()\n",
    "        \n",
    "        outputsA = modelA(imgsA)\n",
    "        outputsB = modelB(imgsB)\n",
    "        \n",
    "        lossA = criterion(outputsA, imgsA)\n",
    "        lossB = criterion(outputsB, imgsB)        \n",
    "        \n",
    "        lossA.backward()\n",
    "        lossB.backward()\n",
    "        \n",
    "        optimizerA.step()\n",
    "        optimizerB.step()\n",
    "        \n",
    "        schedulerA.step()\n",
    "        schedulerB.step()\n",
    "        \n",
    "        plotA.append(lossA.item())\n",
    "        plotB.append(lossB.item())\n",
    "#         plotter.plot('loss', 'val', 'Loss', epoch, [lossA.item(), lossB.item()])\n",
    "                \n",
    "        training_window(imgsA, imgsB, modelA, modelB, epoch, i)\n",
    "            \n",
    "    torch.save(modelA.state_dict(), f\"{trained_models}/modelA_at_epoch_{epoch}.pth\")\n",
    "    torch.save(modelB.state_dict(), f\"{trained_models}/modelB_at_epoch_{epoch}.pth\")\n"
   ]
  },
  {
   "cell_type": "code",
   "execution_count": null,
   "metadata": {},
   "outputs": [],
   "source": [
    "plt.plot(plotA)\n",
    "plt.plot(plotB)\n",
    "plt.legend([\"Loss model A\", \"Loss model B\"])"
   ]
  },
  {
   "cell_type": "code",
   "execution_count": null,
   "metadata": {},
   "outputs": [],
   "source": []
  }
 ],
 "metadata": {
  "kernelspec": {
   "display_name": "Python 3",
   "language": "python",
   "name": "python3"
  },
  "language_info": {
   "codemirror_mode": {
    "name": "ipython",
    "version": 3
   },
   "file_extension": ".py",
   "mimetype": "text/x-python",
   "name": "python",
   "nbconvert_exporter": "python",
   "pygments_lexer": "ipython3",
   "version": "3.7.4"
  }
 },
 "nbformat": 4,
 "nbformat_minor": 4
}
