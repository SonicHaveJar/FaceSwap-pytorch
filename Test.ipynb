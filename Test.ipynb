{
 "cells": [
  {
   "cell_type": "code",
   "execution_count": null,
   "metadata": {},
   "outputs": [],
   "source": [
    "import torch\n",
    "import torch.nn as nn\n",
    "import numpy as np\n",
    "\n",
    "from models.model import Autoencoder\n",
    "\n",
    "from utils.data import autoloader\n",
    "from utils.utils import forward\n",
    "\n",
    "from torch.utils.data import DataLoader\n",
    "\n",
    "from torchvision.utils import make_grid\n",
    "\n",
    "from torch.autograd import Variable\n",
    "\n",
    "\n",
    "import matplotlib.pyplot as plt\n",
    "%matplotlib inline\n",
    "\n",
    "device = torch.device(\"cuda:0\" if torch.cuda.is_available() else \"cpu\")"
   ]
  },
  {
   "cell_type": "code",
   "execution_count": null,
   "metadata": {},
   "outputs": [],
   "source": [
    "path = './dataset/'\n",
    "\n",
    "A_path = path+'jaime'\n",
    "B_path = path+'willyrex'\n",
    "\n",
    "A_loader, B_loader = autoloader(A_path, B_path, bs=2, number_of_images=32)"
   ]
  },
  {
   "cell_type": "code",
   "execution_count": null,
   "metadata": {},
   "outputs": [],
   "source": [
    "#imshow method from: https://pytorch.org/tutorials/beginner/transfer_learning_tutorial.html\n",
    "def imshow(inp, title=None):\n",
    "    \"\"\"Imshow for Tensor.\"\"\"\n",
    "    inp = inp.numpy().transpose((1, 2, 0))\n",
    "    mean = np.array([0.485, 0.456, 0.406])\n",
    "    std = np.array([0.229, 0.224, 0.225])\n",
    "    inp = std * inp + mean\n",
    "    inp = np.clip(inp, 0, 1)\n",
    "    plt.imshow(inp)\n",
    "    if title is not None:\n",
    "        plt.title(title)\n",
    "    plt.pause(0.001)"
   ]
  },
  {
   "cell_type": "code",
   "execution_count": null,
   "metadata": {},
   "outputs": [],
   "source": [
    "modelA = Autoencoder().to(device)\n",
    "\n",
    "modelA.load_state_dict(torch.load('./checkpoints/epoch-5(A).pth'))\n",
    "modelA.eval()\n",
    "\n",
    "modelB = Autoencoder().to(device)\n",
    "\n",
    "modelA.load_state_dict(torch.load('./checkpoints/epoch-5(B).pth'))\n",
    "modelA.eval()"
   ]
  },
  {
   "cell_type": "code",
   "execution_count": null,
   "metadata": {},
   "outputs": [],
   "source": [
    "for (A_imgs, _), (B_imgs, _) in zip(A_loader, B_loader):\n",
    "    A = Variable(A_imgs).to(device)\n",
    "    B = Variable(B_imgs).to(device)\n",
    "    \n",
    "    outputsA = forward(A, modelA, modelB, 'B2A')\n",
    "    #outputsA = modelA(A)\n",
    "    outputsB = modelB(B)\n",
    "    \n",
    "    imshow(make_grid(outputsA.detach().cpu()[0]))\n",
    "    #imshow(make_grid(outputsB.detach().cpu()[0]))    "
   ]
  },
  {
   "cell_type": "code",
   "execution_count": null,
   "metadata": {},
   "outputs": [],
   "source": []
  }
 ],
 "metadata": {
  "kernelspec": {
   "display_name": "Python 3",
   "language": "python",
   "name": "python3"
  },
  "language_info": {
   "codemirror_mode": {
    "name": "ipython",
    "version": 3
   },
   "file_extension": ".py",
   "mimetype": "text/x-python",
   "name": "python",
   "nbconvert_exporter": "python",
   "pygments_lexer": "ipython3",
   "version": "3.7.4"
  }
 },
 "nbformat": 4,
 "nbformat_minor": 2
}
